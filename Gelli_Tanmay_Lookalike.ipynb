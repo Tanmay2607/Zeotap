{
 "cells": [
  {
   "cell_type": "code",
   "execution_count": 1,
   "id": "5da2ff27-ccd4-44cf-9e03-bdff338f3da7",
   "metadata": {},
   "outputs": [],
   "source": [
    "import numpy as np\n",
    "import pandas as pd\n",
    "import matplotlib.pyplot as plt\n",
    "import seaborn as sns\n",
    "from sklearn.preprocessing import StandardScaler\n",
    "from sklearn.metrics.pairwise import cosine_similarity"
   ]
  },
  {
   "cell_type": "code",
   "execution_count": 2,
   "id": "2731e782-26a7-4b0c-aaf2-e70b659f3a41",
   "metadata": {},
   "outputs": [],
   "source": [
    "customers = pd.read_csv('Customers.csv')\n",
    "products = pd.read_csv('Products.csv')\n",
    "transactions = pd.read_csv('Transactions.csv')"
   ]
  },
  {
   "cell_type": "code",
   "execution_count": 3,
   "id": "4774def1-ce63-4d16-b069-4a3eabfa75d8",
   "metadata": {},
   "outputs": [
    {
     "name": "stdout",
     "output_type": "stream",
     "text": [
      "  TransactionID CustomerID ProductID      TransactionDate  Quantity  \\\n",
      "0        T00001      C0199      P067  2024-08-25 12:38:23         1   \n",
      "1        T00112      C0146      P067  2024-05-27 22:23:54         1   \n",
      "2        T00166      C0127      P067  2024-04-25 07:38:55         1   \n",
      "3        T00272      C0087      P067  2024-03-26 22:55:37         2   \n",
      "4        T00363      C0070      P067  2024-03-21 15:10:10         3   \n",
      "\n",
      "   TotalValue  Price_x     CustomerName         Region  SignupDate  \\\n",
      "0      300.68   300.68   Andrea Jenkins         Europe  2022-12-03   \n",
      "1      300.68   300.68  Brittany Harvey           Asia  2024-09-04   \n",
      "2      300.68   300.68  Kathryn Stevens         Europe  2024-04-04   \n",
      "3      601.36   300.68  Travis Campbell  South America  2024-04-11   \n",
      "4      902.04   300.68    Timothy Perez         Europe  2022-03-15   \n",
      "\n",
      "                       ProductName     Category  Price_y  \n",
      "0  ComfortLiving Bluetooth Speaker  Electronics   300.68  \n",
      "1  ComfortLiving Bluetooth Speaker  Electronics   300.68  \n",
      "2  ComfortLiving Bluetooth Speaker  Electronics   300.68  \n",
      "3  ComfortLiving Bluetooth Speaker  Electronics   300.68  \n",
      "4  ComfortLiving Bluetooth Speaker  Electronics   300.68  \n"
     ]
    }
   ],
   "source": [
    "#Merging the datasets for the deeper analysis\n",
    "merged_data = pd.merge(transactions, customers, on='CustomerID')\n",
    "merged_data = pd.merge(merged_data, products, on='ProductID')\n",
    "print(merged_data.head())"
   ]
  },
  {
   "cell_type": "code",
   "execution_count": 4,
   "id": "ee49e915-547b-4a7b-934f-42468580183d",
   "metadata": {},
   "outputs": [],
   "source": [
    "#Creating customer features like total spending,no.of transactions\n",
    "customer_features = merged_data.groupby('CustomerID').agg({\n",
    "    'TotalValue': 'sum',\n",
    "    'TransactionID': 'nunique',\n",
    "    'Quantity': 'sum'\n",
    "}).reset_index()"
   ]
  },
  {
   "cell_type": "code",
   "execution_count": 5,
   "id": "1b8afd9c-b549-473e-83f5-57aaef07e304",
   "metadata": {},
   "outputs": [],
   "source": [
    "#Standardize the features\n",
    "scaler = StandardScaler()\n",
    "customer_features_scaled = scaler.fit_transform(customer_features[['TotalValue', 'TransactionID', 'Quantity']])"
   ]
  },
  {
   "cell_type": "code",
   "execution_count": 6,
   "id": "da630f2d-741e-432b-9003-ceb4fcccc715",
   "metadata": {},
   "outputs": [],
   "source": [
    "#Finding similarity between customers so we are using cosine similarity\n",
    "similarity_matrix = cosine_similarity(customer_features_scaled)"
   ]
  },
  {
   "cell_type": "code",
   "execution_count": 7,
   "id": "a71a9a5f-a6fa-45e7-bb89-a78c7e5491e7",
   "metadata": {},
   "outputs": [],
   "source": [
    "# Function to get top 3 similar customers\n",
    "def get_top_lookalikes(customer_id, similarity_matrix, top_n=3):\n",
    "    customer_index = customer_features[customer_features['CustomerID'] == customer_id].index[0]\n",
    "    similarities = similarity_matrix[customer_index]\n",
    "    top_indices = similarities.argsort()[-top_n-1:-1][::-1]\n",
    "    top_customers = customer_features.iloc[top_indices]['CustomerID'].tolist()\n",
    "    top_scores = similarities[top_indices].tolist()\n",
    "    return list(zip(top_customers, top_scores))"
   ]
  },
  {
   "cell_type": "code",
   "execution_count": 8,
   "id": "577bcd00-67fc-44c6-9891-0025b2d230a7",
   "metadata": {},
   "outputs": [],
   "source": [
    "#Finding the top 3 similar customers for the first 20 customers\n",
    "lookalike_results = {}\n",
    "for customer_id in customer_features['CustomerID'].head(20):\n",
    "    lookalike_results[customer_id] = get_top_lookalikes(customer_id, similarity_matrix)"
   ]
  },
  {
   "cell_type": "code",
   "execution_count": 12,
   "id": "9e6194a9-5b45-4453-b0ea-be04de769615",
   "metadata": {},
   "outputs": [
    {
     "name": "stdout",
     "output_type": "stream",
     "text": [
      "\n",
      "Top 3 similar Customers for the first 20 Customers:\n",
      "Customer C0001: [('C0164', 0.9975983724345929), ('C0103', 0.9953941278099472), ('C0069', 0.9860733836106332)]\n",
      "Customer C0002: [('C0029', 0.9997537292562625), ('C0031', 0.9989862771052472), ('C0077', 0.994312726345747)]\n",
      "Customer C0003: [('C0176', 0.9029496971526534), ('C0027', 0.8751211681188946), ('C0010', 0.8329653020982932)]\n",
      "Customer C0004: [('C0075', 0.9977891220712191), ('C0165', 0.9944415111703248), ('C0113', 0.993976488501688)]\n",
      "Customer C0005: [('C0123', 0.9997808088942964), ('C0131', 0.9996277242039578), ('C0058', 0.9995605582180777)]\n",
      "Customer C0006: [('C0079', 0.9998815163910635), ('C0117', 0.989524860418253), ('C0196', 0.9452522588894805)]\n",
      "Customer C0007: [('C0125', 0.9980316823166858), ('C0140', 0.9979601864953596), ('C0092', 0.9979042974085808)]\n",
      "Customer C0008: [('C0179', 0.9981992905794519), ('C0081', 0.9950291061097487), ('C0084', 0.9929308812562458)]\n",
      "Customer C0009: [('C0192', 0.9987781413090145), ('C0083', 0.9957180831913479), ('C0177', 0.9932099747861437)]\n",
      "Customer C0010: [('C0142', 0.9646368112917465), ('C0029', 0.9565195372684344), ('C0027', 0.9535114266035424)]\n",
      "Customer C0011: [('C0096', 0.9945642053273775), ('C0171', 0.9926440431727047), ('C0064', 0.9883566901799368)]\n",
      "Customer C0012: [('C0068', 0.9996082087158921), ('C0065', 0.9991742031906667), ('C0102', 0.9979890553233045)]\n",
      "Customer C0013: [('C0188', 0.9993465146352909), ('C0059', 0.9991582178910703), ('C0022', 0.9989032273910521)]\n",
      "Customer C0014: [('C0033', 0.9996370179530534), ('C0186', 0.9994742841579195), ('C0095', 0.9994541877070586)]\n",
      "Customer C0015: [('C0058', 0.9999892357705313), ('C0131', 0.9999662761198869), ('C0005', 0.9995277437257132)]\n",
      "Customer C0016: [('C0107', 0.9872482628237116), ('C0152', 0.8471016394991451), ('C0183', 0.8353265541195464)]\n",
      "Customer C0017: [('C0113', 0.9985496611305837), ('C0162', 0.997668547378708), ('C0124', 0.997148152633162)]\n",
      "Customer C0018: [('C0182', 0.9846969240377399), ('C0148', 0.9788850159674236), ('C0200', 0.9740264833768648)]\n",
      "Customer C0019: [('C0172', 0.985929816439122), ('C0116', 0.9576819671943043), ('C0157', 0.8528014523164061)]\n",
      "Customer C0020: [('C0080', 0.9998941335299402), ('C0167', 0.9993416605407588), ('C0063', 0.9993264511960818)]\n"
     ]
    }
   ],
   "source": [
    "print(\"\\nTop 3 similar Customers for the first 20 Customers:\")\n",
    "for customer_id, lookalikes in lookalike_results.items():\n",
    "    print(f\"Customer {customer_id}: {lookalikes}\")"
   ]
  },
  {
   "cell_type": "code",
   "execution_count": 9,
   "id": "5472b8c2-f1f1-4755-962b-a3ec45ebc323",
   "metadata": {},
   "outputs": [],
   "source": [
    "lookalike_df = pd.DataFrame(lookalike_results).T\n",
    "lookalike_df.to_csv('Lookalike.csv')"
   ]
  },
  {
   "cell_type": "code",
   "execution_count": null,
   "id": "7d2e835f-0af7-457a-9faa-ed11ddff9f50",
   "metadata": {},
   "outputs": [],
   "source": []
  },
  {
   "cell_type": "code",
   "execution_count": null,
   "id": "0dec737b-80fa-4573-82cb-376a592e8dea",
   "metadata": {},
   "outputs": [],
   "source": []
  }
 ],
 "metadata": {
  "kernelspec": {
   "display_name": "Python 3 (ipykernel)",
   "language": "python",
   "name": "python3"
  },
  "language_info": {
   "codemirror_mode": {
    "name": "ipython",
    "version": 3
   },
   "file_extension": ".py",
   "mimetype": "text/x-python",
   "name": "python",
   "nbconvert_exporter": "python",
   "pygments_lexer": "ipython3",
   "version": "3.12.0"
  }
 },
 "nbformat": 4,
 "nbformat_minor": 5
}
